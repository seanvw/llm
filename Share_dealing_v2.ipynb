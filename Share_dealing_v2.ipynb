{
  "nbformat": 4,
  "nbformat_minor": 0,
  "metadata": {
    "colab": {
      "provenance": [],
      "authorship_tag": "ABX9TyMxGtmuNK3XqB9dFqHEXF0a"
    },
    "kernelspec": {
      "name": "python3",
      "display_name": "Python 3"
    },
    "language_info": {
      "name": "python"
    }
  },
  "cells": [
    {
      "cell_type": "markdown",
      "source": [
        "Test code generation with models of various sophistication following on from release of o1 and seeing strategies for generating plans and code using the reportoire of model stengths and weaknesses\n",
        "\n",
        "with gpt-4o-mini\n",
        "\n",
        "Write a python library of functions with a demonstration of it's usage to calculate APR from investing in shares\n",
        "\n",
        "1. A share can be bought and sold within a day or over a longer period, months or years.\n",
        "\n",
        "2. When a share is bought, the date and time is captured to the minute.\n",
        "\n",
        "3. When a share is sold, the date and time is captured to the minute.\n",
        "\n",
        "4. The application should be able to calculate APR based on a combination of sold shares\n",
        "(realised profit/loss) together with the current value of shares currently held within a portfolio  \n",
        "\n",
        "5. The application should report the realised profit/loss of shares no longer owned,\n",
        "together with its bought and sold datetimes and the days elapsed between purchase and sale.\n",
        "Additionally the effective APR of the share sale should be reported.\n",
        "\n",
        "6. The application should report the unrealised profit/loss of shares still held, together\n",
        "with its bought date and time. Additionally the effective APR of the share sale should be reported.\n",
        "\n",
        "7. Within the application, all date and times should be human readable\n",
        "\n",
        "8. The demonstation of usage should give examples of realised share dealings held for 1 day, 5 days and 6 months respectively\n",
        "\n",
        "9. The demonstation of usage should give two examples of unrealised share purchases, one is a profit and one is a loss\n",
        "\n",
        "10. The details of realised and unrealised dealing should be pretty printed\n",
        "\n",
        "\n",
        "Respond with the code only! Nothing else!"
      ],
      "metadata": {
        "id": "tYoNQ1A6-nx1"
      }
    },
    {
      "cell_type": "code",
      "execution_count": null,
      "metadata": {
        "colab": {
          "base_uri": "https://localhost:8080/"
        },
        "id": "d7RRcE0L-VB6",
        "outputId": "479723fb-4950-4856-eb15-3cd26f45d574"
      },
      "outputs": [
        {
          "output_type": "stream",
          "name": "stdout",
          "text": [
            "Realised Sale - Symbol: AAPL, Sold Price: 155.0, Quantity: 5, Date Sold: 2023-01-02 12:00:00, Days Held: 1, Profit/Loss: 75.0, Effective APR: 1216.67%\n",
            "Realised Sale - Symbol: AAPL, Sold Price: 160.0, Quantity: 5, Date Sold: 2023-01-06 12:00:00, Days Held: 5, Profit/Loss: 75.0, Effective APR: 486.67%\n",
            "Realised Sale - Symbol: TSLA, Sold Price: 650.0, Quantity: 10, Date Sold: 2023-12-01 12:00:00, Days Held: 183, Profit/Loss: 500.0, Effective APR: 16.62%\n",
            "Unrealised Holding - Symbol: GOOGL, Current Price: 2600.0, Bought Price: 2500.0, Quantity: 2, Unrealised Profit/Loss: 200.0, Effective APR: N/A (not sold)\n",
            "Unrealised Holding - Symbol: AMZN, Current Price: 3200.0, Bought Price: 3300.0, Quantity: 2, Unrealised Profit/Loss: -200.0, Effective APR: N/A (not sold)\n"
          ]
        }
      ],
      "source": [
        "\n",
        "from datetime import datetime\n",
        "from collections import namedtuple\n",
        "\n",
        "class Share:\n",
        "    def __init__(self, symbol, purchase_price, quantity, purchase_date):\n",
        "        self.symbol = symbol\n",
        "        self.purchase_price = purchase_price\n",
        "        self.quantity = quantity\n",
        "        self.purchase_date = purchase_date\n",
        "        self.sales = []\n",
        "\n",
        "    def sell(self, sell_price, quantity, sell_date):\n",
        "        self.sales.append((sell_price, quantity, sell_date))\n",
        "\n",
        "    def realised_profit_loss(self):\n",
        "        total_spent = self.purchase_price * self.quantity\n",
        "        total_earned = sum(price * qty for price, qty, _ in self.sales)\n",
        "        return total_earned - total_spent\n",
        "\n",
        "    def unrealised_profit_loss(self, current_price):\n",
        "        return (current_price - self.purchase_price) * self.quantity\n",
        "\n",
        "    def days_held(self, sell_date):\n",
        "        return (sell_date - self.purchase_date).days\n",
        "\n",
        "    def effective_apr(self, sell_price, quantity, sell_date):\n",
        "        profit = (sell_price - self.purchase_price) * quantity\n",
        "        days = self.days_held(sell_date)\n",
        "        apr = (profit / (self.purchase_price * quantity)) * (365 / days) * 100 if days > 0 else 0\n",
        "        return apr\n",
        "\n",
        "    def display_realised(self):\n",
        "        for sell_price, quantity, sell_date in self.sales:\n",
        "            days = self.days_held(sell_date)\n",
        "            effective_apr = self.effective_apr(sell_price, quantity, sell_date)\n",
        "            print(f\"Realised Sale - Symbol: {self.symbol}, Sold Price: {sell_price}, \"\n",
        "                  f\"Quantity: {quantity}, Date Sold: {sell_date}, Days Held: {days}, \"\n",
        "                  f\"Profit/Loss: {self.realised_profit_loss()}, Effective APR: {effective_apr:.2f}%\")\n",
        "\n",
        "    def display_unrealised(self, current_price):\n",
        "        unrealised_pl = self.unrealised_profit_loss(current_price)\n",
        "        print(f\"Unrealised Holding - Symbol: {self.symbol}, Current Price: {current_price}, \"\n",
        "              f\"Bought Price: {self.purchase_price}, Quantity: {self.quantity}, \"\n",
        "              f\"Unrealised Profit/Loss: {unrealised_pl}, \"\n",
        "              f\"Effective APR: N/A (not sold)\")\n",
        "\n",
        "\n",
        "def demo_usage():\n",
        "    # Realised Positions\n",
        "    share1 = Share('AAPL', 150.00, 10, datetime(2023, 1, 1, 12, 0))\n",
        "    share1.sell(155.00, 5, datetime(2023, 1, 2, 12, 0))  # Sold 5 shares after 1 day\n",
        "    share1.sell(160.00, 5, datetime(2023, 1, 6, 12, 0))  # Sold 5 shares after 5 days\n",
        "    share1.display_realised()\n",
        "\n",
        "    share2 = Share('TSLA', 600.00, 10, datetime(2023, 6, 1, 12, 0))\n",
        "    share2.sell(650.00, 10, datetime(2023, 12, 1, 12, 0))  # Sold after 6 months\n",
        "    share2.display_realised()\n",
        "\n",
        "    # Unrealised Positions\n",
        "    share3 = Share('GOOGL', 2500.00, 2, datetime(2023, 7, 1, 12, 0))\n",
        "    share3.display_unrealised(2600.00)  # Currently valued at 2600\n",
        "\n",
        "    share4 = Share('AMZN', 3300.00, 2, datetime(2023, 8, 1, 12, 0))\n",
        "    share4.display_unrealised(3200.00)  # Currently valued at 3200\n",
        "\n",
        "\n",
        "# Run the demonstration\n",
        "demo_usage()\n"
      ]
    },
    {
      "cell_type": "markdown",
      "source": [
        "from gemini - code could be merged"
      ],
      "metadata": {
        "id": "WNQ68BRWXNUf"
      }
    },
    {
      "cell_type": "code",
      "source": [
        "# prompt: write a python library to get current share price from a ticker symbol and give an example\n",
        "\n",
        "import yfinance as yf\n",
        "\n",
        "def get_current_share_price(ticker_symbol):\n",
        "    \"\"\"\n",
        "    Retrieves the current share price for a given ticker symbol using yfinance.\n",
        "\n",
        "    Args:\n",
        "        ticker_symbol: The stock ticker symbol (e.g., \"AAPL\", \"MSFT\").\n",
        "\n",
        "    Returns:\n",
        "        The current share price as a float, or None if the ticker symbol is invalid or data is unavailable.\n",
        "    \"\"\"\n",
        "    try:\n",
        "        ticker_data = yf.Ticker(ticker_symbol)\n",
        "        current_price = ticker_data.info.get('currentPrice')\n",
        "        if current_price is not None:\n",
        "            return current_price\n",
        "        else:\n",
        "            return None  # Or raise an exception if you prefer\n",
        "    except Exception as e:\n",
        "        print(f\"Error retrieving data for {ticker_symbol}: {e}\")\n",
        "        return None\n",
        "\n",
        "\n",
        "# Example usage\n",
        "if __name__ == \"__main__\":\n",
        "    ticker = \"AAPL\"  # Replace with your desired ticker symbol\n",
        "    price = get_current_share_price(ticker)\n",
        "\n",
        "    if price:\n",
        "        print(f\"The current price of {ticker} is: ${price:.2f}\")\n",
        "    else:\n",
        "        print(f\"Could not retrieve current price for {ticker}\")"
      ],
      "metadata": {
        "colab": {
          "base_uri": "https://localhost:8080/"
        },
        "id": "Cq6-XFZ8WVkA",
        "outputId": "b9fa0e8a-725c-4bcd-b989-23701d35cf21"
      },
      "execution_count": null,
      "outputs": [
        {
          "output_type": "stream",
          "name": "stdout",
          "text": [
            "The current price of AAPL is: $253.01\n"
          ]
        }
      ]
    }
  ]
}