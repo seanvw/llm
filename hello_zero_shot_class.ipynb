{
 "cells": [
  {
   "cell_type": "code",
   "execution_count": 1,
   "id": "75f27a43-cc21-4548-9634-930f3ca5f32a",
   "metadata": {},
   "outputs": [
    {
     "name": "stderr",
     "output_type": "stream",
     "text": [
      "2024-11-22 09:23:52.598268: I tensorflow/core/util/port.cc:111] oneDNN custom operations are on. You may see slightly different numerical results due to floating-point round-off errors from different computation orders. To turn them off, set the environment variable `TF_ENABLE_ONEDNN_OPTS=0`.\n",
      "2024-11-22 09:23:52.602272: I tensorflow/tsl/cuda/cudart_stub.cc:28] Could not find cuda drivers on your machine, GPU will not be used.\n",
      "2024-11-22 09:23:52.742434: E tensorflow/compiler/xla/stream_executor/cuda/cuda_dnn.cc:9342] Unable to register cuDNN factory: Attempting to register factory for plugin cuDNN when one has already been registered\n",
      "2024-11-22 09:23:52.742492: E tensorflow/compiler/xla/stream_executor/cuda/cuda_fft.cc:609] Unable to register cuFFT factory: Attempting to register factory for plugin cuFFT when one has already been registered\n",
      "2024-11-22 09:23:52.742545: E tensorflow/compiler/xla/stream_executor/cuda/cuda_blas.cc:1518] Unable to register cuBLAS factory: Attempting to register factory for plugin cuBLAS when one has already been registered\n",
      "2024-11-22 09:23:52.764933: I tensorflow/tsl/cuda/cudart_stub.cc:28] Could not find cuda drivers on your machine, GPU will not be used.\n",
      "2024-11-22 09:23:52.766143: I tensorflow/core/platform/cpu_feature_guard.cc:182] This TensorFlow binary is optimized to use available CPU instructions in performance-critical operations.\n",
      "To enable the following instructions: AVX2 AVX512F AVX512_VNNI FMA, in other operations, rebuild TensorFlow with the appropriate compiler flags.\n",
      "2024-11-22 09:23:54.310784: W tensorflow/compiler/tf2tensorrt/utils/py_utils.cc:38] TF-TRT Warning: Could not find TensorRT\n"
     ]
    }
   ],
   "source": [
    "from transformers import pipeline"
   ]
  },
  {
   "cell_type": "code",
   "execution_count": 2,
   "id": "639beccf-f6d0-43b4-8db2-199cf4020b51",
   "metadata": {},
   "outputs": [
    {
     "name": "stdout",
     "output_type": "stream",
     "text": [
      "['distilbert/distilbert-base-uncased-finetuned-sst-2-english']\n",
      "\n",
      "\n",
      "USING MODEL: distilbert/distilbert-base-uncased-finetuned-sst-2-english\n"
     ]
    },
    {
     "name": "stderr",
     "output_type": "stream",
     "text": [
      "All PyTorch model weights were used when initializing TFDistilBertForSequenceClassification.\n",
      "\n",
      "All the weights of TFDistilBertForSequenceClassification were initialized from the PyTorch model.\n",
      "If your task is similar to the task the model of the checkpoint was trained on, you can already use TFDistilBertForSequenceClassification for predictions without further training.\n",
      "Failed to determine 'entailment' label id from the label2id mapping in the model config. Setting to -1. Define a descriptive label2id mapping in the model config to ensure correct outputs.\n"
     ]
    },
    {
     "name": "stdout",
     "output_type": "stream",
     "text": [
      "Aristotle was a bugger for the bottle\n",
      "\n",
      "comedy: 0.6589353680610657\n",
      "\n",
      "history: 0.12847788631916046\n",
      "\n",
      "philosophy: 0.1175156682729721\n",
      "\n",
      "geomorphology: 0.09507104754447937\n"
     ]
    }
   ],
   "source": [
    "models = []\n",
    "#models.append(\"distilgpt2\")\n",
    "models.append(\"distilbert/distilbert-base-uncased-finetuned-sst-2-english\")\n",
    "print(models)\n",
    "\n",
    "for model in models:\n",
    "    print(\"\\n\\nUSING MODEL: \" + model)\n",
    "    classifier = pipeline(\"zero-shot-classification\", model = model)\n",
    "    res = classifier(\"Aristotle was a bugger for the bottle\", candidate_labels=[\"history\",\"philosophy\",\"geomorphology\",\"comedy\"])\n",
    "    #print(res)\n",
    "\n",
    "    print(res[\"sequence\"])\n",
    "    \n",
    "    #print(res[\"labels\"])\n",
    "    #print(res[\"scores\"])\n",
    "\n",
    "    for i, label in enumerate(res[\"labels\"]):\n",
    "        score = res[\"scores\"][i]\n",
    "        print(f\"\\n{label}: {score}\")\n",
    "    \n"
   ]
  },
  {
   "cell_type": "code",
   "execution_count": null,
   "id": "daedbfbc-c138-4d86-b3ce-348f21d03039",
   "metadata": {},
   "outputs": [],
   "source": []
  },
  {
   "cell_type": "code",
   "execution_count": null,
   "id": "a8ef8fbb-886d-4576-b417-3d1b2cdd9e85",
   "metadata": {},
   "outputs": [],
   "source": []
  }
 ],
 "metadata": {
  "kernelspec": {
   "display_name": "Python 3 (ipykernel)",
   "language": "python",
   "name": "python3"
  },
  "language_info": {
   "codemirror_mode": {
    "name": "ipython",
    "version": 3
   },
   "file_extension": ".py",
   "mimetype": "text/x-python",
   "name": "python",
   "nbconvert_exporter": "python",
   "pygments_lexer": "ipython3",
   "version": "3.11.6"
  }
 },
 "nbformat": 4,
 "nbformat_minor": 5
}
