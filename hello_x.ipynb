{
 "cells": [
  {
   "cell_type": "code",
   "execution_count": null,
   "id": "75f27a43-cc21-4548-9634-930f3ca5f32a",
   "metadata": {},
   "outputs": [],
   "source": [
    "from transformers import pipeline"
   ]
  },
  {
   "cell_type": "code",
   "execution_count": null,
   "id": "639beccf-f6d0-43b4-8db2-199cf4020b51",
   "metadata": {},
   "outputs": [],
   "source": [
    "models = []\n",
    "models.append(\"distilgpt2\")\n",
    "models.append(\"distilbert/distilbert-base-uncased-finetuned-sst-2-english\")\n",
    "print(models)\n",
    "\n",
    "for model in models:\n",
    "    print(\"\\n\\nUSING MODEL: \" + model)\n",
    "    classifier = pipeline(\"zero-shot-classification\")\n",
    "\n",
    "    res = classifier(\"I think therefore I am\", candidate_labels=[\"history\",\"philosophy\",\"geomorphology\"])\n",
    "    print(res)\n",
    "    \n"
   ]
  },
  {
   "cell_type": "code",
   "execution_count": null,
   "id": "daedbfbc-c138-4d86-b3ce-348f21d03039",
   "metadata": {},
   "outputs": [],
   "source": []
  },
  {
   "cell_type": "code",
   "execution_count": null,
   "id": "a8ef8fbb-886d-4576-b417-3d1b2cdd9e85",
   "metadata": {},
   "outputs": [],
   "source": []
  }
 ],
 "metadata": {
  "kernelspec": {
   "display_name": "Python 3 (ipykernel)",
   "language": "python",
   "name": "python3"
  },
  "language_info": {
   "codemirror_mode": {
    "name": "ipython",
    "version": 3
   },
   "file_extension": ".py",
   "mimetype": "text/x-python",
   "name": "python",
   "nbconvert_exporter": "python",
   "pygments_lexer": "ipython3",
   "version": "3.11.6"
  }
 },
 "nbformat": 4,
 "nbformat_minor": 5
}
