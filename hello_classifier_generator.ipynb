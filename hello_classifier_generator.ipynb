{
 "cells": [
  {
   "cell_type": "code",
   "execution_count": 1,
   "id": "75f27a43-cc21-4548-9634-930f3ca5f32a",
   "metadata": {},
   "outputs": [
    {
     "name": "stderr",
     "output_type": "stream",
     "text": [
      "2024-11-21 15:35:30.166205: I tensorflow/core/util/port.cc:111] oneDNN custom operations are on. You may see slightly different numerical results due to floating-point round-off errors from different computation orders. To turn them off, set the environment variable `TF_ENABLE_ONEDNN_OPTS=0`.\n",
      "2024-11-21 15:35:30.342366: I tensorflow/tsl/cuda/cudart_stub.cc:28] Could not find cuda drivers on your machine, GPU will not be used.\n",
      "2024-11-21 15:35:30.738955: E tensorflow/compiler/xla/stream_executor/cuda/cuda_dnn.cc:9342] Unable to register cuDNN factory: Attempting to register factory for plugin cuDNN when one has already been registered\n",
      "2024-11-21 15:35:30.739013: E tensorflow/compiler/xla/stream_executor/cuda/cuda_fft.cc:609] Unable to register cuFFT factory: Attempting to register factory for plugin cuFFT when one has already been registered\n",
      "2024-11-21 15:35:30.741511: E tensorflow/compiler/xla/stream_executor/cuda/cuda_blas.cc:1518] Unable to register cuBLAS factory: Attempting to register factory for plugin cuBLAS when one has already been registered\n",
      "2024-11-21 15:35:31.374901: I tensorflow/tsl/cuda/cudart_stub.cc:28] Could not find cuda drivers on your machine, GPU will not be used.\n",
      "2024-11-21 15:35:31.379560: I tensorflow/core/platform/cpu_feature_guard.cc:182] This TensorFlow binary is optimized to use available CPU instructions in performance-critical operations.\n",
      "To enable the following instructions: AVX2 AVX512F AVX512_VNNI FMA, in other operations, rebuild TensorFlow with the appropriate compiler flags.\n",
      "2024-11-21 15:35:33.766030: W tensorflow/compiler/tf2tensorrt/utils/py_utils.cc:38] TF-TRT Warning: Could not find TensorRT\n"
     ]
    }
   ],
   "source": [
    "from transformers import pipeline"
   ]
  },
  {
   "cell_type": "code",
   "execution_count": 2,
   "id": "b9b2171b-5112-4dd3-8f9b-a98d4524a092",
   "metadata": {},
   "outputs": [
    {
     "name": "stdout",
     "output_type": "stream",
     "text": [
      "\n",
      "\n",
      "USING MODEL: distilbert/distilbert-base-uncased-finetuned-sst-2-english\n"
     ]
    },
    {
     "name": "stderr",
     "output_type": "stream",
     "text": [
      "All PyTorch model weights were used when initializing TFDistilBertForSequenceClassification.\n",
      "\n",
      "All the weights of TFDistilBertForSequenceClassification were initialized from the PyTorch model.\n",
      "If your task is similar to the task the model of the checkpoint was trained on, you can already use TFDistilBertForSequenceClassification for predictions without further training.\n"
     ]
    },
    {
     "name": "stdout",
     "output_type": "stream",
     "text": [
      "Mondays are dire\n",
      "[{'label': 'NEGATIVE', 'score': 0.9995858073234558}]\n",
      "I like Mondays\n",
      "[{'label': 'POSITIVE', 'score': 0.9704034328460693}]\n"
     ]
    }
   ],
   "source": [
    "\n",
    "txts = [\"Mondays are dire\", \"I like Mondays\"]\n",
    "model = \"distilbert/distilbert-base-uncased-finetuned-sst-2-english\"\n",
    "print(\"\\n\\nUSING MODEL: \" + model)\n",
    "\n",
    "classifier = pipeline(\"sentiment-analysis\", model = \"distilbert/distilbert-base-uncased-finetuned-sst-2-english\")\n",
    "for txt in txts:\n",
    "    print(txt)\n",
    "    res = classifier(txt)\n",
    "    print(res)"
   ]
  },
  {
   "cell_type": "code",
   "execution_count": 3,
   "id": "21f2ed64-3ab8-4329-ad59-213851a383e1",
   "metadata": {},
   "outputs": [
    {
     "name": "stdout",
     "output_type": "stream",
     "text": [
      "\n",
      "\n",
      "USING MODEL: distilgpt2\n"
     ]
    },
    {
     "name": "stderr",
     "output_type": "stream",
     "text": [
      "All PyTorch model weights were used when initializing TFGPT2LMHeadModel.\n",
      "\n",
      "All the weights of TFGPT2LMHeadModel were initialized from the PyTorch model.\n",
      "If your task is similar to the task the model of the checkpoint was trained on, you can already use TFGPT2LMHeadModel for predictions without further training.\n",
      "Truncation was not explicitly activated but `max_length` is provided a specific value, please use `truncation=True` to explicitly truncate examples to max length. Defaulting to 'longest_first' truncation strategy. If you encode pairs of sequences (GLUE-style) with the tokenizer you can select this strategy more precisely by providing a specific strategy to `truncation`.\n",
      "Setting `pad_token_id` to `eos_token_id`:50256 for open-end generation.\n"
     ]
    },
    {
     "name": "stdout",
     "output_type": "stream",
     "text": [
      "------ Generated Text ------\n",
      "The hills are alive with the sun, but they're also still warm and dry.\n",
      "\n",
      "The forest can be seen all the way to the left\n",
      "\n",
      "------ End of Generated Text ------\n",
      "\n",
      "\n",
      "------ Generated Text ------\n",
      "The hills are alive with nothing but a smile. I have seen the birds and there he was in a cave in the woods, there I look him\n",
      "\n",
      "------ End of Generated Text ------\n",
      "\n",
      "\n",
      "------ Generated Text ------\n",
      "The hills are alive with a wave that has made the region the new largest city in history. It’s time to recognize the beauty of urban\n",
      "\n",
      "------ End of Generated Text ------\n",
      "\n",
      "\n"
     ]
    }
   ],
   "source": [
    "#model = \"distilbert/distilbert-base-uncased-finetuned-sst-2-english\"\n",
    "model = \"distilgpt2\"\n",
    "\n",
    "print(\"\\n\\nUSING MODEL: \" + model)\n",
    "\n",
    "generator = pipeline(\"text-generation\", model = model)\n",
    "results = generator(\"The hills are alive with\", max_length=30, num_return_sequences=3)\n",
    "for result in results:\n",
    "    print(\"------ Generated Text ------\")\n",
    "    print(result['generated_text'])\n",
    "    print(\"\\n------ End of Generated Text ------\\n\\n\")\n",
    "\n"
   ]
  },
  {
   "cell_type": "code",
   "execution_count": null,
   "id": "daedbfbc-c138-4d86-b3ce-348f21d03039",
   "metadata": {},
   "outputs": [],
   "source": []
  },
  {
   "cell_type": "code",
   "execution_count": null,
   "id": "a8ef8fbb-886d-4576-b417-3d1b2cdd9e85",
   "metadata": {},
   "outputs": [],
   "source": []
  },
  {
   "cell_type": "code",
   "execution_count": null,
   "id": "b8b8a18b-cd50-408c-9baa-faed38b6f7fe",
   "metadata": {},
   "outputs": [],
   "source": []
  },
  {
   "cell_type": "code",
   "execution_count": null,
   "id": "69feae5e-5634-4caa-9fd3-807da81f3525",
   "metadata": {},
   "outputs": [],
   "source": []
  },
  {
   "cell_type": "code",
   "execution_count": null,
   "id": "bd3eef2a-dd38-4ecb-88b7-e4822dd34e83",
   "metadata": {},
   "outputs": [],
   "source": []
  },
  {
   "cell_type": "code",
   "execution_count": null,
   "id": "e3f817c1-8d80-46bf-b671-2b2edd8a10e4",
   "metadata": {},
   "outputs": [],
   "source": []
  },
  {
   "cell_type": "code",
   "execution_count": null,
   "id": "45dd6123-7175-4c93-a429-7e9ad0d310fa",
   "metadata": {},
   "outputs": [],
   "source": []
  },
  {
   "cell_type": "code",
   "execution_count": null,
   "id": "524f7b2e-55e8-4520-acfa-d0189c3b748e",
   "metadata": {},
   "outputs": [],
   "source": []
  },
  {
   "cell_type": "code",
   "execution_count": null,
   "id": "8ee0f56d-8ecf-4718-83ca-f601781a1b50",
   "metadata": {},
   "outputs": [],
   "source": []
  }
 ],
 "metadata": {
  "kernelspec": {
   "display_name": "Python 3 (ipykernel)",
   "language": "python",
   "name": "python3"
  },
  "language_info": {
   "codemirror_mode": {
    "name": "ipython",
    "version": 3
   },
   "file_extension": ".py",
   "mimetype": "text/x-python",
   "name": "python",
   "nbconvert_exporter": "python",
   "pygments_lexer": "ipython3",
   "version": "3.11.6"
  }
 },
 "nbformat": 4,
 "nbformat_minor": 5
}
